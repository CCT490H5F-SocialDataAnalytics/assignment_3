{
 "cells": [
  {
   "cell_type": "markdown",
   "metadata": {},
   "source": [
    "# Assignment 3 - Analyzing the American Community Survey\n",
    "\n",
    "The American Community Survey is a long form survey which the United States Census conducts on a rolling basis. Beyond the census which occurs every ten years in the States, the American Community Survey (ACS) asks much more detailed questions about employment, income, health, military service, and much more. If you are interested in the full list of variables involved in the ACS, you can check out the codebook [here](docs/ACS2005-Codebook.pdf).\n",
    "\n",
    "With this assignment, you will be tasked to analyze the American Community Survey responses for the survey released in 2005, for the US state of Wisconsin. The main thing we want to understand in the ACS for Wisconsin is the relationship between income and education. Economists have long thought that there is a direct relationship between income and education. However, lots of things can mediate this relationship: race, gender, whether your parents went to college, and where you live.\n",
    "\n",
    "For this assignment, you will look at the relationship between logged annual personal earnings (<code>L_PERNP</code>) and years in school (<code>SCHLN</code>). These are both **continuous** variables, meaning they contain numerical values. You will also look at two **ordinal** or **categorical** variables: worked in the last week (<code>UWRK</code>) and disability status (<code>DS</code>). <code>UWRK</code> takes on two values: \"Worked\" and \"Did not work\". <code>DS</code> also takes on two values: \"With a disability\" and \"Without a disability\".\n",
    "\n",
    "You are going to do a preliminary investigation of the relationship between these two variables. You will do this by using both data modeling and visualisation tools available in Python. You will also have to **write up your results** in the noted Markdown cells as you go along. In this way, this notebook will look a lot like your final report."
   ]
  },
  {
   "cell_type": "code",
   "execution_count": null,
   "metadata": {
    "collapsed": false
   },
   "outputs": [],
   "source": [
    "## import statements\n",
    "import pandas as pd\n",
    "import numpy as np\n",
    "\n",
    "import matplotlib\n",
    "import matplotlib.pyplot as plt\n",
    "%matplotlib inline\n",
    "matplotlib.style.use('ggplot')\n",
    "\n",
    "from scipy.stats.stats import pearsonr\n",
    "from statsmodels.formula.api import ols"
   ]
  },
  {
   "cell_type": "code",
   "execution_count": null,
   "metadata": {
    "collapsed": false
   },
   "outputs": [],
   "source": [
    "## This loads the ACS Wisconsin data with some special parameters\n",
    "df = pd.read_csv(\"data/acs-wi.csv\", index_col = 0, low_memory = False)\n",
    "\n",
    "## This prepares the \"personal earnings\" variable by getting rid of all \n",
    "## values less than or equal to zero, and transforming to a logarithm \n",
    "## scale.\n",
    "df = df[df['PERNP'] > 0]\n",
    "df[\"L_PERNP\"] = np.log(df[\"PERNP\"])"
   ]
  },
  {
   "cell_type": "code",
   "execution_count": null,
   "metadata": {
    "collapsed": false
   },
   "outputs": [],
   "source": [
    "## TODO 1: Plot a histogram of both L_PERNP and SCHLN. \n",
    "## These should be in the same plot."
   ]
  },
  {
   "cell_type": "code",
   "execution_count": null,
   "metadata": {
    "collapsed": false
   },
   "outputs": [],
   "source": [
    "## TODO 2: Plot a density plot of both L_PERNP and SCHLN. \n",
    "## These should be in the same plot."
   ]
  },
  {
   "cell_type": "code",
   "execution_count": null,
   "metadata": {
    "collapsed": false
   },
   "outputs": [],
   "source": [
    "## TODO 3: Calculate the Pearson correlation between L_PERNP and SCHLN."
   ]
  },
  {
   "cell_type": "markdown",
   "metadata": {},
   "source": [
    "**TODO 4: Based on TODOs 1-3, what can you say about the relationship between L_PERNP and SCHLN?**\n",
    "\n",
    "Write your answer here."
   ]
  },
  {
   "cell_type": "code",
   "execution_count": null,
   "metadata": {
    "collapsed": false
   },
   "outputs": [],
   "source": [
    "## TODO 5: Calculate the number of times each value in UWRK appears in the dataset."
   ]
  },
  {
   "cell_type": "code",
   "execution_count": null,
   "metadata": {
    "collapsed": false
   },
   "outputs": [],
   "source": [
    "## TODO 6: Calculate the number of times each value in DS appears in the dataset."
   ]
  },
  {
   "cell_type": "code",
   "execution_count": null,
   "metadata": {
    "collapsed": false
   },
   "outputs": [],
   "source": [
    "## TODO 7: Calculate the mean of L_PERNP and SCHLN, grouped by UWRK."
   ]
  },
  {
   "cell_type": "code",
   "execution_count": null,
   "metadata": {
    "collapsed": false
   },
   "outputs": [],
   "source": [
    "## TODO 8: Calculate the mean of L_PERNP and SCHLN, grouped by DS."
   ]
  },
  {
   "cell_type": "markdown",
   "metadata": {},
   "source": [
    "**TODO 9: Based on TODOs 5 and 6, discuss what percentage of the Wisconsin population have worked in the past week and how many have a disability.**\n",
    "\n",
    "Write your answer here."
   ]
  },
  {
   "cell_type": "markdown",
   "metadata": {},
   "source": [
    "**TODO 10: Based on TODOs 7 and 8, discuss what effect not working in the past week or having a disability seems to have on personal earnings and years in school.**\n",
    "\n",
    "Write your answer here."
   ]
  },
  {
   "cell_type": "code",
   "execution_count": null,
   "metadata": {
    "collapsed": false
   },
   "outputs": [],
   "source": [
    "## TODO 11: Create the scatter plot of SCHLN vs. L_PERNP. \n",
    "## Put SCHLN on the x-axis and L_PERNP on the y-axis."
   ]
  },
  {
   "cell_type": "code",
   "execution_count": null,
   "metadata": {
    "collapsed": false
   },
   "outputs": [],
   "source": [
    "## TODO 12: Create the same plot as TODO 11, separated by UWRK.\n",
    "## \"Did not work\" should be in green and \"Worked\" in blue. "
   ]
  },
  {
   "cell_type": "code",
   "execution_count": null,
   "metadata": {
    "collapsed": false
   },
   "outputs": [],
   "source": [
    "## TODO 13: Create the same plot as TODO 11, separated by DS.\n",
    "## \"With a disability\" should be in green and \"Without a disability\" in blue. "
   ]
  },
  {
   "cell_type": "code",
   "execution_count": null,
   "metadata": {
    "collapsed": false
   },
   "outputs": [],
   "source": [
    "## TODO 14: Run the linear regression of SCHLN on L_PERNP.\n",
    "## L_PERNP is the dependent variable and SCHLN is the independent variable."
   ]
  },
  {
   "cell_type": "code",
   "execution_count": null,
   "metadata": {
    "collapsed": false
   },
   "outputs": [],
   "source": [
    "## TODO 15: Run the linear regression of SCHLN, UWRK, and DS on L_PERNP.\n",
    "## L_PERNP is the dependent variable and SCHLN, UWRK, and DS are the independent variables."
   ]
  },
  {
   "cell_type": "markdown",
   "metadata": {},
   "source": [
    "**TODO 16: Based on all of the above, what can you say about the relationship between L_PERNP and SCHLN? What can you say about how UWRK and DS affect personal earnings?**\n",
    "\n",
    "Write your answer here."
   ]
  }
 ],
 "metadata": {
  "anaconda-cloud": {},
  "kernelspec": {
   "display_name": "Python [Root]",
   "language": "python",
   "name": "Python [Root]"
  },
  "language_info": {
   "codemirror_mode": {
    "name": "ipython",
    "version": 3
   },
   "file_extension": ".py",
   "mimetype": "text/x-python",
   "name": "python",
   "nbconvert_exporter": "python",
   "pygments_lexer": "ipython3",
   "version": "3.5.2"
  }
 },
 "nbformat": 4,
 "nbformat_minor": 0
}
